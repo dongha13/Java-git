{
  "nbformat": 4,
  "nbformat_minor": 0,
  "metadata": {
    "colab": {
      "provenance": [],
      "authorship_tag": "ABX9TyMtU1pgaMwlgt0QV4a9RBuw",
      "include_colab_link": true
    },
    "kernelspec": {
      "name": "python3",
      "display_name": "Python 3"
    },
    "language_info": {
      "name": "python"
    }
  },
  "cells": [
    {
      "cell_type": "markdown",
      "metadata": {
        "id": "view-in-github",
        "colab_type": "text"
      },
      "source": [
        "<a href=\"https://colab.research.google.com/github/dongha13/Java-git/blob/master/Untitled0.ipynb\" target=\"_parent\"><img src=\"https://colab.research.google.com/assets/colab-badge.svg\" alt=\"Open In Colab\"/></a>"
      ]
    },
    {
      "cell_type": "code",
      "source": [
        "### 안녕하세요"
      ],
      "metadata": {
        "id": "p3q11R30_3o3"
      },
      "execution_count": null,
      "outputs": []
    },
    {
      "cell_type": "code",
      "execution_count": null,
      "metadata": {
        "colab": {
          "base_uri": "https://localhost:8080/"
        },
        "id": "ySJQnJLC_aui",
        "outputId": "5c66dda9-22b2-443c-bb87-04cab5f503a9"
      },
      "outputs": [
        {
          "output_type": "stream",
          "name": "stdout",
          "text": [
            "hello world\n"
          ]
        }
      ],
      "source": [
        "print(\"hello world\")"
      ]
    },
    {
      "cell_type": "code",
      "source": [
        "num = 1+1\n",
        "w = \"hello world\"\n",
        "\n",
        "w[0]\n",
        "w[1]\n",
        "w[2]\n",
        "\n",
        "w[-1]\n",
        "w[-2]\n",
        "w[0:5]\n",
        "w[:5]\n",
        "w[3:]\n",
        "\n",
        "\n",
        "\n"
      ],
      "metadata": {
        "colab": {
          "base_uri": "https://localhost:8080/",
          "height": 36
        },
        "id": "1Ru0heBnAESz",
        "outputId": "616c90d7-594b-4c4e-b9b0-f7401f115f19"
      },
      "execution_count": null,
      "outputs": [
        {
          "output_type": "execute_result",
          "data": {
            "text/plain": [
              "'lo world'"
            ],
            "application/vnd.google.colaboratory.intrinsic+json": {
              "type": "string"
            }
          },
          "metadata": {},
          "execution_count": 23
        }
      ]
    },
    {
      "cell_type": "code",
      "source": [
        "a=[1,3,5,7,9]\n",
        "a\n",
        "type(a)\n",
        "\n",
        "s=['life', 'is','short']\n",
        "s\n",
        "s[0]\n",
        "s[1]\n",
        "\n",
        "s=[1,2,'life','is','short']\n",
        "\n",
        "s[0]\n",
        "type(s[0])\n",
        "type(s[1])\n",
        "\n",
        "s=[1,2,1,['list','is']]\n",
        "\n",
        "a=[1,2,3]\n",
        "a = a*3\n",
        "a\n",
        "\n",
        "a = [1,2,3]\n",
        "a.append(4)\n",
        "a\n",
        "\n",
        "\n",
        "\n",
        "\n",
        "\n",
        "\n"
      ],
      "metadata": {
        "id": "F9EIkJ9FLG7F",
        "colab": {
          "base_uri": "https://localhost:8080/"
        },
        "outputId": "5cb9ac76-0725-4681-987a-fea3ce1c09d8"
      },
      "execution_count": null,
      "outputs": [
        {
          "output_type": "execute_result",
          "data": {
            "text/plain": [
              "[1, 2, 3, 4]"
            ]
          },
          "metadata": {},
          "execution_count": 19
        }
      ]
    },
    {
      "cell_type": "code",
      "source": [
        "a = [1,2,3]\n",
        "a.index(3)\n",
        "[1,2,1,2,3]"
      ],
      "metadata": {
        "colab": {
          "base_uri": "https://localhost:8080/"
        },
        "id": "DTWX6Gl1DPGQ",
        "outputId": "244ac7e4-1eb7-4673-a864-e005f2030252"
      },
      "execution_count": null,
      "outputs": [
        {
          "output_type": "execute_result",
          "data": {
            "text/plain": [
              "[1, 2, 1, 2, 3]"
            ]
          },
          "metadata": {},
          "execution_count": 20
        }
      ]
    },
    {
      "cell_type": "code",
      "source": [
        "t1=(1,2,'a','b')\n",
        "#del 1[0]\n",
        "t2 = (3,4)\n",
        "\n",
        "t1 + t2\n",
        "len(t1)\n"
      ],
      "metadata": {
        "colab": {
          "base_uri": "https://localhost:8080/"
        },
        "id": "pxpY8kh_O1aE",
        "outputId": "83d40bf2-a280-4c70-9290-bb58be99b104"
      },
      "execution_count": null,
      "outputs": [
        {
          "output_type": "execute_result",
          "data": {
            "text/plain": [
              "4"
            ]
          },
          "metadata": {},
          "execution_count": 24
        }
      ]
    },
    {
      "cell_type": "code",
      "source": [
        "dic = { 'name' : 'pey', 'phone' : '0119993323', 'birth' : '1118' }\n",
        "\n",
        "dic\n",
        "\n",
        "a = {'a' : [1,2,3] }\n",
        "a[2] = 'b'\n",
        "\n",
        "a['a']\n",
        "a[2]\n",
        "\n",
        "del a[2]\n",
        "a\n",
        "\n"
      ],
      "metadata": {
        "colab": {
          "base_uri": "https://localhost:8080/"
        },
        "id": "F4rrzKmKO4ZI",
        "outputId": "679f69c6-6cf5-4c6d-ddea-53d82a032624"
      },
      "execution_count": null,
      "outputs": [
        {
          "output_type": "execute_result",
          "data": {
            "text/plain": [
              "{'a': [1, 2, 3]}"
            ]
          },
          "metadata": {},
          "execution_count": 26
        }
      ]
    },
    {
      "cell_type": "code",
      "source": [
        "dic = { 'name' : 'pey', 'phone' : '0119993323', 'birth' : '1118' }\n",
        "type(dic)\n",
        "\n",
        "dic.keys()\n",
        "\n",
        "for k in dic.kets():\n",
        " print(k)\n",
        "\n",
        "\n"
      ],
      "metadata": {
        "colab": {
          "base_uri": "https://localhost:8080/"
        },
        "id": "nHyxSGqjUzEu",
        "outputId": "450acdf8-7d1e-40e3-86f9-8de04e7cf7be"
      },
      "execution_count": null,
      "outputs": [
        {
          "output_type": "execute_result",
          "data": {
            "text/plain": [
              "dict_keys(['name', 'phone', 'birth'])"
            ]
          },
          "metadata": {},
          "execution_count": 27
        }
      ]
    },
    {
      "cell_type": "code",
      "source": [],
      "metadata": {
        "id": "BXeXzv86K-ZA"
      },
      "execution_count": null,
      "outputs": []
    }
  ]
}